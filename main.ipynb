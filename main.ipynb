{
 "cells": [
  {
   "cell_type": "code",
   "execution_count": 1,
   "metadata": {},
   "outputs": [],
   "source": [
    "import cv2\n",
    "import os\n",
    "import math\n",
    "import matplotlib.pyplot as plt\n",
    "import numpy as np\n",
    "from Thresholding import otsu\n",
    "from Boundaries import boundaries_detection\n",
    "from Boundaries import freeman_chain_code\n",
    "from Borders import border_detection\n",
    "from Boundaries import fourier_descriptors\n",
    "from Boundaries import extreme_points\n",
    "class Image:\n",
    "    def __init__(self,data,label,rotated=False,resized=False):\n",
    "        self.data = data\n",
    "        self.borderImage = None\n",
    "        self.label = label\n",
    "        self.boundary = None\n",
    "        self.boundaryImage = None\n",
    "        self.extremePoints = None\n",
    "        self.rotated = rotated\n",
    "        self.resized = resized\n",
    "\n",
    "    def __str__(self) -> str:\n",
    "        return f\"{self.data}\"\n",
    "\n",
    "    def getBoundaries(self)->None:\n",
    "        binaryImage = otsu.otsu_image(self.data)\n",
    "        self.borderImage = border_detection.canny_bordering(binaryImage)\n",
    "        self.boundaryImage,self.boundary = boundaries_detection.moore_boundary_detection(self.borderImage)\n",
    "\n",
    "    def getFreemanChain(self):\n",
    "        if(self.boundary is None):\n",
    "            self.getBoundaries()\n",
    "        freemanChainCode = freeman_chain_code.calculate_chain_code(self.boundaryImage)\n",
    "        self.freemanChainCode = freeman_chain_code.normalize_chain(freemanChainCode)\n",
    "\n",
    "    def getArea(self):\n",
    "        rows,columns = self.data.shape\n",
    "        area = 0\n",
    "        for r in range(rows):\n",
    "            for c in range(columns):\n",
    "                if(self.data[r][c] == 255):\n",
    "                    area += 1\n",
    "        self.area = area\n",
    "\n",
    "    def getPerimeter(self):\n",
    "        if(self.freemanChainCode is None):\n",
    "            self.getFreemanChain()\n",
    "        perimeter = 0\n",
    "        for value in self.freemanChainCode:\n",
    "            if(value%2 == 0):\n",
    "                perimeter += 1\n",
    "            else:\n",
    "                perimeter += math.sqrt(2)\n",
    "        self.perimeter = perimeter\n",
    "        \n",
    "    def getCompactness(self):\n",
    "        if(self.perimeter is None):\n",
    "            self.getPerimeter()\n",
    "        if(self.area is None):\n",
    "            self.getArea()\n",
    "        self.compactness = self.perimeter**2 / self.area\n",
    "\n",
    "    def getRectangularity(self):\n",
    "        rows,columns = self.data.shape\n",
    "        points = [math.inf,-1,math.inf,-1] # heighleast,heighmost,leftmost,rightmost\n",
    "        for r in range(rows):\n",
    "            for c in range(columns):\n",
    "                if(self.data[r][c] == 255):\n",
    "                    if(r < points[0]):\n",
    "                        points[0] = r\n",
    "                    if(r > points[1]):\n",
    "                        points[1] = r\n",
    "                    if(c < points[2]):\n",
    "                        points[2] = c\n",
    "                    if(c > points[3]):\n",
    "                        points[3] = c\n",
    "        areaR = (points[1]-points[0]) * (points[3]-points[2])\n",
    "        self.rectangularity = self.area/areaR\n",
    "\n",
    "    def getFourierDescriptors(self):\n",
    "        if self.boundary is None:\n",
    "            self.getBoundaries()\n",
    "        self.fourierDescriptors = fourier_descriptors.fourier_descriptors(self.boundary.copy())\n",
    "\n",
    "    def getExtremePoints(self):\n",
    "        if self.boundary is None:\n",
    "            self.getBoundaries()\n",
    "        self.extremePoints = extreme_points.findExtremePoints(self.boundary)\n",
    "        \n",
    "    def plotExtremePoints(self):\n",
    "        if self.extremePoints is None:\n",
    "            self.getExtremePoints()\n",
    "        plt.figure()\n",
    "        plt.imshow(self.data, cmap=\"gray\")\n",
    "        for point in self.extremePoints:\n",
    "            y, x = point\n",
    "            plt.scatter(x, y, c=\"red\")\n",
    "        plt.show()\n",
    "\n",
    "    def plotImage(self):\n",
    "        plt.figure()\n",
    "        plt.subplot(131)\n",
    "        plt.imshow(self.data,cmap=\"gray\")\n",
    "        plt.subplot(132)\n",
    "        plt.imshow(self.borderImage,cmap=\"gray\")\n",
    "        plt.subplot(133)\n",
    "        plt.imshow(self.boundaryImage,cmap=\"gray\")\n",
    "        plt.show()\n"
   ]
  },
  {
   "cell_type": "markdown",
   "metadata": {},
   "source": [
    "## Load data"
   ]
  },
  {
   "cell_type": "code",
   "execution_count": 2,
   "metadata": {},
   "outputs": [],
   "source": [
    "images = []\n",
    "imagesRotated = []\n",
    "imagesResized = []\n",
    "folder_path = 'images'\n",
    "init_folders = os.listdir(folder_path)\n",
    "for folder in init_folders:\n",
    "    init_folder_path = os.path.join(folder_path, folder)\n",
    "    cont = 0\n",
    "    for image_path in os.listdir(init_folder_path):\n",
    "        if(cont == 10):\n",
    "            break\n",
    "        image_folder = os.path.join(init_folder_path,image_path)\n",
    "        image = cv2.imread(image_folder,cv2.IMREAD_GRAYSCALE)\n",
    "        imageR = cv2.rotate(image, cv2.ROTATE_90_COUNTERCLOCKWISE)\n",
    "        imagesRZD = cv2.resize(image,(37,37),interpolation=cv2.INTER_NEAREST)\n",
    "        images.append(Image(image,folder))\n",
    "        imagesRotated.append(Image(imageR,folder,rotated=True))\n",
    "        imagesResized.append(Image(imagesRZD,folder,resized=True))\n",
    "        cont += 1"
   ]
  },
  {
   "cell_type": "code",
   "execution_count": 3,
   "metadata": {},
   "outputs": [
    {
     "data": {
      "image/png": "[encoded data removed]",
      "text/plain": [
       "<Figure size 640x480 with 3 Axes>"
      ]
     },
     "metadata": {},
     "output_type": "display_data"
    },
    {
     "data": {
      "text/plain": [
       "0.3117408906882591"
      ]
     },
     "execution_count": 3,
     "metadata": {},
     "output_type": "execute_result"
    }
   ],
   "source": [
    "image = images[12]\n",
    "image.getFreemanChain()\n",
    "image.plotImage()\n",
    "image.getArea()\n",
    "image.getPerimeter()\n",
    "image.getCompactness()\n",
    "image.getRectangularity()\n",
    "image.rectangularity"
   ]
  },
  {
   "cell_type": "code",
   "execution_count": 4,
   "metadata": {},
   "outputs": [
    {
     "name": "stdout",
     "output_type": "stream",
     "text": [
      "Comparacion entre descriptores de Fourier\n",
      "[ 641.        +6.52000000e+02j -128.19969269-1.32580168e+01j\n",
      "  -29.52429698+2.33427564e+01j    6.16799178+1.61061506e+01j\n",
      "    1.73205081-2.00000000e+00j   -2.90992063-9.15200041e+00j\n",
      "   -2.41421356+4.82842712e+00j    0.8840488 -1.08423271e+00j\n",
      "    2.        -2.67949192e-01j   -4.68337016-3.82362695e+00j]\n",
      "[644.        +6.41000000e+02j  93.63668518+8.85613200e+01j\n",
      " -22.47673103+3.01888216e+01j -17.24053114-4.65075633e-01j\n",
      "  -2.59807621-5.00000000e-01j  -1.69045009-9.45352464e+00j\n",
      "  -1.70710678-5.12132034e+00j  -1.19034847-7.34964869e-01j\n",
      "   1.8660254 +7.67949192e-01j   5.79010852+1.74032251e+00j]\n",
      "[ 1.15900000e+03+1.19100000e+03j -2.35999756e+02-2.98716541e+01j\n",
      " -6.06122154e+01+3.71636045e+01j  6.95551380e+00+2.78883076e+01j\n",
      "  3.23044250e+00-3.10345996e+00j -3.87235929e+00-1.15684785e+01j\n",
      " -3.93343464e+00+7.05749785e+00j  1.72807540e+00+1.01164831e+00j\n",
      "  4.53553391e+00-7.07106781e-01j -2.90337044e+00-6.61609302e+00j\n",
      " -2.78012004e+00+1.99608717e-02j  2.23899654e-01+2.10799784e+00j\n",
      "  1.06933199e+00+1.25937479e+00j -4.65042791e+00-4.77438119e-01j\n",
      " -2.49682583e-01-1.56697916e+00j  5.61482536e+00-3.80041720e+00j\n",
      "  0.00000000e+00+0.00000000e+00j  3.91242596e-01-7.00814633e-01j\n",
      "  1.40610091e-01+2.38725033e-01j  1.84198518e-01+8.79911299e-01j\n",
      "  1.15851267e+00-5.08620703e-02j  7.62206906e-01+1.42633656e+00j\n",
      " -2.28854434e+00+1.61978380e+00j -9.87880390e-01+9.77481079e-01j\n",
      "  1.70710678e+00-4.64466094e-01j  1.45679830e+00+5.38822112e-01j\n",
      "  1.32510359e+00+2.56805642e-01j -1.95643935e+00-5.84217279e-01j\n",
      " -9.84858698e-01-2.44750230e-01j -1.39735355e+00+2.90009366e-01j\n",
      " -1.70711056e+00+6.05531620e-01j  1.16091725e-01-2.47517118e+00j\n",
      " -1.00000000e+00+1.00000000e+00j -7.85889150e-01-1.08796030e+00j\n",
      "  1.28602034e+00-2.21657244e-01j  4.29718953e-01+5.38875626e-01j\n",
      " -1.23044250e+00+2.75032835e-01j  2.86105349e+00+4.77035677e-01j\n",
      " -2.97059621e+00-2.25788906e-02j -1.95515201e+00+1.06593577e+00j\n",
      " -2.53553391e+00+7.07106781e-01j  7.82446600e-01+1.36468279e+00j\n",
      "  2.03105432e+00+1.84525130e+00j -1.38193102e+00+2.66309878e+00j\n",
      " -1.41247774e+00-7.74093416e-01j -2.15412738e-01+3.33383795e+00j\n",
      "  6.71590430e-02-1.26380565e+00j -1.20053078e-01-4.14910373e-02j\n",
      " -2.00000000e+00+0.00000000e+00j -3.29537340e+00-2.61371332e+00j\n",
      "  5.58167979e-01-4.21010957e+00j  1.07896035e+00-1.42403447e+00j\n",
      "  8.41487332e-01+2.87928920e+00j -3.95693878e-01+2.18643557e-01j\n",
      "  1.87886669e+00-8.25268251e+00j -5.71399610e+00-6.48019927e-01j\n",
      "  2.92893219e-01-7.53553391e+00j -6.84205844e+00-4.32697801e+00j\n",
      " -1.39486209e+01-3.09258056e+00j -4.63233392e+00-5.56027137e+00j\n",
      " -1.06719956e+01-1.62405311e+01j -8.18960535e+01-1.43862380e+01j\n",
      "  1.72033426e+01+8.18232329e+01j -4.95583498e+02-1.50599634e+02j]\n",
      "128.88342102129113\n",
      "237.88274494456408\n",
      "Comparacion entre invarianza a rotación\n",
      "Original vs Rotado\n",
      "[914.32215329 128.88342102  37.63732709  17.24680288   2.64575131\n",
      "   9.60347591   5.39834564   1.39896492   2.01786936   6.04599695]\n",
      "[908.63469007 128.88342102  37.63732709  17.24680288   2.64575131\n",
      "   9.60347591   5.39834564   1.39896492   2.01786936   6.04599695]\n",
      "Original vs Resized\n",
      "[ 4.97348685+5.05883530e+00j -0.99469499-1.02868287e-01j\n",
      " -0.22907754+1.81115276e-01j  0.04785714+1.24966815e-01j\n",
      "  0.0134389 -1.55178997e-02j -0.02257793-7.10099122e-02j\n",
      " -0.01873176+3.74635239e-02j  0.00685929-8.41250723e-03j\n",
      "  0.0155179 -2.07900435e-03j -0.03633803-2.96673297e-02j]\n",
      "[ 4.87214825+5.00666831e+00j -0.99208438-1.25573018e-01j\n",
      " -0.25479871+1.56226567e-01j  0.02923925+1.17235521e-01j\n",
      "  0.01357998-1.30461752e-02j -0.01627844-4.86310114e-02j\n",
      " -0.01653518+2.96679688e-02j  0.0072644 +4.25271834e-03j\n",
      "  0.01906626-2.97250135e-03j -0.01220505-2.78124124e-02j]\n"
     ]
    },
    {
     "data": {
      "image/png": "[encoded data removed]",
      "text/plain": [
       "<Figure size 640x480 with 3 Axes>"
      ]
     },
     "metadata": {},
     "output_type": "display_data"
    },
    {
     "data": {
      "image/png": "[encoded data removed]",
      "text/plain": [
       "<Figure size 640x480 with 1 Axes>"
      ]
     },
     "metadata": {},
     "output_type": "display_data"
    },
    {
     "data": {
      "image/png": "[encoded data removed]",
      "text/plain": [
       "<Figure size 640x480 with 1 Axes>"
      ]
     },
     "metadata": {},
     "output_type": "display_data"
    },
    {
     "data": {
      "image/png": "[encoded data removed]",
      "text/plain": [
       "<Figure size 640x480 with 1 Axes>"
      ]
     },
     "metadata": {},
     "output_type": "display_data"
    },
    {
     "data": {
      "text/plain": [
       "array([[0, 0, 0, ..., 0, 0, 0],\n",
       "       [0, 0, 0, ..., 0, 0, 0],\n",
       "       [0, 0, 0, ..., 0, 0, 0],\n",
       "       ...,\n",
       "       [0, 0, 0, ..., 0, 0, 0],\n",
       "       [0, 0, 0, ..., 0, 0, 0],\n",
       "       [0, 0, 0, ..., 0, 0, 0]], dtype=uint8)"
      ]
     },
     "execution_count": 4,
     "metadata": {},
     "output_type": "execute_result"
    }
   ],
   "source": [
    "# Se obtienen los descriptores de Fourier\n",
    "imagen = images[65]\n",
    "imagen.getFourierDescriptors()\n",
    "\n",
    "imagenRotada = imagesRotated[65]\n",
    "imagenRotada.getFourierDescriptors()\n",
    "\n",
    "imagenResized = imagesResized[65]\n",
    "imagenResized.getFourierDescriptors()\n",
    "\n",
    "print(\"Comparacion entre descriptores de Fourier\")\n",
    "\n",
    "print(imagen.fourierDescriptors[:10])\n",
    "print(imagenRotada.fourierDescriptors[:10])\n",
    "print(imagenResized.fourierDescriptors)\n",
    "\n",
    "# Se grafican los descriptores de Fourier\n",
    "\n",
    "# Se calculan los descriptores normalizados\n",
    "\n",
    "descriptor_normal_InvarianteRot = fourier_descriptors.calculate_rotation_invariance(imagen.fourierDescriptors.copy())\n",
    "descriptor_normal_InvarianteScale = fourier_descriptors.calculate_scale_invariance(imagen.fourierDescriptors.copy())\n",
    "descriptor_rotado = fourier_descriptors.calculate_rotation_invariance(imagenRotada.fourierDescriptors.copy())\n",
    "descriptor_resized = fourier_descriptors.calculate_scale_invariance(imagenResized.fourierDescriptors.copy())\n",
    "\n",
    "print(\"Comparacion entre invarianza a rotación\")\n",
    "print(\"Original vs Rotado\")\n",
    "print(descriptor_normal_InvarianteRot[:10])\n",
    "print(descriptor_rotado[:10])\n",
    "print(\"Original vs Resized\")\n",
    "print(descriptor_normal_InvarianteScale[:10])\n",
    "print(descriptor_resized[:10])\n",
    "\n",
    "imagenResized.plotImage()\n",
    "\n",
    "fourier_descriptors.plot_IDFT(imagen.fourierDescriptors, 1)\n",
    "fourier_descriptors.plot_IDFT(imagenRotada.fourierDescriptors, 1)\n",
    "fourier_descriptors.plot_IDFT(imagenResized.fourierDescriptors, 1, width=37, height=37)\n"
   ]
  },
  {
   "cell_type": "markdown",
   "metadata": {},
   "source": [
    "<h2>Extreme Points</h2>"
   ]
  },
  {
   "cell_type": "code",
   "execution_count": 11,
   "metadata": {},
   "outputs": [
    {
     "data": {
      "image/png": "[encoded data removed]",
      "text/plain": [
       "<Figure size 640x480 with 1 Axes>"
      ]
     },
     "metadata": {},
     "output_type": "display_data"
    }
   ],
   "source": [
    "image = images[40]\n",
    "image.plotExtremePoints()"
   ]
  }
 ],
 "metadata": {
  "kernelspec": {
   "display_name": "Python 3",
   "language": "python",
   "name": "python3"
  },
  "language_info": {
   "codemirror_mode": {
    "name": "ipython",
    "version": 3
   },
   "file_extension": ".py",
   "mimetype": "text/x-python",
   "name": "python",
   "nbconvert_exporter": "python",
   "pygments_lexer": "ipython3",
   "version": "3.11.6"
  }
 },
 "nbformat": 4,
 "nbformat_minor": 2
}
