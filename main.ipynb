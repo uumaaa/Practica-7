{
 "cells": [
  {
   "cell_type": "code",
   "execution_count": 32,
   "metadata": {},
   "outputs": [],
   "source": [
    "import numpy as np\n",
    "import cv2\n",
    "import os\n",
    "import matplotlib.pyplot as plt\n",
    "from Thresholding import otsu\n",
    "from Boundaries import boundaries_detection\n",
    "from Boundaries import freeman_chain_code\n",
    "from Borders import border_detection\n",
    "class Image:\n",
    "    def __init__(self,data,label,rotated=False,resized=False):\n",
    "        self.data = data\n",
    "        self.borderImage = None\n",
    "        self.label = label\n",
    "        self.boundary = None\n",
    "        self.boundaryImage = None\n",
    "        self.rotated = rotated\n",
    "        self.resized = resized\n",
    "\n",
    "    def __str__(self) -> str:\n",
    "        return f\"{self.data}\"\n",
    "\n",
    "    def getBoundaries(self)->None:\n",
    "        binaryImage = otsu.otsu_image(self.data)\n",
    "        self.borderImage = border_detection.canny_bordering(binaryImage)\n",
    "        self.boundaryImage,self.boundary = boundaries_detection.moore_boundary_detection(self.borderImage)\n",
    "\n",
    "    def getFreemanChain(self):\n",
    "        if(self.boundary is None):\n",
    "            self.getBoundaries()\n",
    "        freemanChainCode = freeman_chain_code.calculate_chain_code(self.boundaryImage)\n",
    "        self.freemanChainCode = freeman_chain_code.normalize_chain(freemanChainCode)\n",
    "\n",
    "    def getArea(self):\n",
    "        rows,columns = self.data.shape\n",
    "        area = 0\n",
    "        for r in range(rows):\n",
    "            for c in range(columns):\n",
    "                if(self.data[r][c] == 255):\n",
    "                    area += 1\n",
    "        return area\n",
    "\n",
    "    def getPerimeter(self):pass #TODO\n",
    "    def getCompactness(self):pass #TODO\n",
    "    def getRectnagularity(self):pass #TODO\n",
    "    def plotImage(self):\n",
    "        plt.figure()\n",
    "        plt.subplot(131)\n",
    "        plt.imshow(self.data,cmap=\"gray\")\n",
    "        plt.subplot(132)\n",
    "        plt.imshow(self.borderImage,cmap=\"gray\")\n",
    "        plt.subplot(133)\n",
    "        plt.imshow(self.boundaryImage,cmap=\"gray\")\n",
    "        plt.show()\n"
   ]
  },
  {
   "cell_type": "markdown",
   "metadata": {},
   "source": [
    "## Load data"
   ]
  },
  {
   "cell_type": "code",
   "execution_count": 33,
   "metadata": {},
   "outputs": [],
   "source": [
    "images = []\n",
    "imagesRotated = []\n",
    "imagesResized = []\n",
    "folder_path = 'images'\n",
    "init_folders = os.listdir(folder_path)\n",
    "for folder in init_folders:\n",
    "    init_folder_path = os.path.join(folder_path, folder)\n",
    "    cont = 0\n",
    "    for image_path in os.listdir(init_folder_path):\n",
    "        if(cont == 10):\n",
    "            break\n",
    "        image_folder = os.path.join(init_folder_path,image_path)\n",
    "        image = cv2.imread(image_folder,cv2.IMREAD_GRAYSCALE)\n",
    "        imageR = cv2.rotate(image, cv2.ROTATE_90_COUNTERCLOCKWISE)\n",
    "        imagesRZD = cv2.resize(image,(37,37),interpolation=cv2.INTER_NEAREST)\n",
    "        images.append(Image(image,folder))\n",
    "        imagesRotated.append(Image(imageR,folder,rotated=True))\n",
    "        imagesResized.append(Image(imagesRZD,folder,resized=True))\n",
    "        cont += 1"
   ]
  },
  {
   "cell_type": "code",
   "execution_count": 34,
   "metadata": {},
   "outputs": [
    {
     "name": "stdout",
     "output_type": "stream",
     "text": [
      "[0, 0, 0, 0, 0, 2, 7, 1, 0, 7, 1, 0, 0, 7, 1, 1, 7, 0, 0, 1, 7, 0, 1, 7, 2, 0, 1, 1, 0, 1, 7, 0, 0, 1, 7, 7, 0, 7, 0, 1, 0, 1, 0, 0, 0, 1, 7, 2]\n"
     ]
    },
    {
     "data": {
      "image/png": "[encoded data removed]",
      "text/plain": [
       "<Figure size 640x480 with 3 Axes>"
      ]
     },
     "metadata": {},
     "output_type": "display_data"
    },
    {
     "name": "stdout",
     "output_type": "stream",
     "text": [
      "[0, 0, 0, 0, 0, 2, 7, 1, 0, 7, 1, 0, 0, 7, 1, 1, 7, 0, 0, 1, 7, 0, 1, 7, 2, 0, 1, 1, 0, 1, 7, 0, 0, 1, 7, 7, 0, 7, 0, 1, 0, 1, 0, 0, 0, 1, 7, 2]\n"
     ]
    },
    {
     "data": {
      "image/png": "[encoded data removed]",
      "text/plain": [
       "<Figure size 640x480 with 3 Axes>"
      ]
     },
     "metadata": {},
     "output_type": "display_data"
    },
    {
     "name": "stdout",
     "output_type": "stream",
     "text": [
      "[0, 0, 0, 0, 0, 0, 1, 1, 7, 1, 0, 0, 7, 1, 0, 0, 0, 7, 1, 1, 7, 0, 0, 0, 1, 7, 0, 0, 1, 7, 0, 1, 1, 0, 1, 1, 0, 0, 1, 7, 0, 0, 0, 1, 7, 0, 0, 7, 0, 7, 0, 0, 1, 0, 0, 1, 0, 0, 0, 0, 1, 7, 1, 1]\n"
     ]
    },
    {
     "data": {
      "image/png": "[encoded data removed]",
      "text/plain": [
       "<Figure size 640x480 with 3 Axes>"
      ]
     },
     "metadata": {},
     "output_type": "display_data"
    }
   ],
   "source": [
    "image = images[65]\n",
    "image.getFreemanChain()\n",
    "image.plotImage()\n",
    "image = imagesRotated[65]\n",
    "image.getFreemanChain()\n",
    "image.plotImage()\n",
    "image = imagesResized[65]\n",
    "image.getFreemanChain()\n",
    "image.plotImage()"
   ]
  }
 ],
 "metadata": {
  "kernelspec": {
   "display_name": "Python 3",
   "language": "python",
   "name": "python3"
  },
  "language_info": {
   "codemirror_mode": {
    "name": "ipython",
    "version": 3
   },
   "file_extension": ".py",
   "mimetype": "text/x-python",
   "name": "python",
   "nbconvert_exporter": "python",
   "pygments_lexer": "ipython3",
   "version": "3.10.11"
  }
 },
 "nbformat": 4,
 "nbformat_minor": 2
}
