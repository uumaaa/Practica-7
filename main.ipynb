{
 "cells": [
  {
   "cell_type": "code",
<<<<<<< Updated upstream
   "execution_count": 57,
=======
   "execution_count": 1,
>>>>>>> Stashed changes
   "metadata": {},
   "outputs": [],
   "source": [
    "import cv2\n",
    "import os\n",
    "import math\n",
    "import matplotlib.pyplot as plt\n",
    "import numpy as np\n",
    "from Thresholding import otsu\n",
    "from Boundaries import boundaries_detection\n",
    "from Boundaries import freeman_chain_code\n",
    "from Boundaries import fourier_descriptors\n",
    "from Borders import border_detection\n",
    "\n",
    "class Image:\n",
    "    def __init__(self,data,label,rotated=False,resized=False):\n",
    "        self.data = data\n",
    "        self.borderImage = None\n",
    "        self.label = label\n",
    "        self.boundary = None\n",
    "        self.boundaryImage = None\n",
    "        self.rotated = rotated\n",
    "        self.resized = resized\n",
    "\n",
    "    def __str__(self) -> str:\n",
    "        return f\"{self.data}\"\n",
    "\n",
    "    def getBoundaries(self)->None:\n",
    "        binaryImage = otsu.otsu_image(self.data)\n",
    "        self.borderImage = border_detection.canny_bordering(binaryImage)\n",
    "        self.boundaryImage,self.boundary = boundaries_detection.moore_boundary_detection(self.borderImage)\n",
    "\n",
    "    def getFreemanChain(self):\n",
    "        if(self.boundary is None):\n",
    "            self.getBoundaries()\n",
    "        freemanChainCode = freeman_chain_code.calculate_chain_code(self.boundaryImage)\n",
    "        self.freemanChainCode = freeman_chain_code.normalize_chain(freemanChainCode)\n",
    "\n",
    "    def getArea(self):\n",
    "        rows,columns = self.data.shape\n",
    "        area = 0\n",
    "        for r in range(rows):\n",
    "            for c in range(columns):\n",
    "                if(self.data[r][c] == 255):\n",
    "                    area += 1\n",
    "        self.area = area\n",
    "\n",
    "    def getPerimeter(self):\n",
    "        if(self.freemanChainCode is None):\n",
    "            self.getFreemanChain()\n",
    "        perimeter = 0\n",
    "        for value in self.freemanChainCode:\n",
    "            if(value%2 == 0):\n",
    "                perimeter += 1\n",
    "            else:\n",
    "                perimeter += math.sqrt(2)\n",
    "        self.perimeter = perimeter\n",
    "        \n",
    "    def getCompactness(self):\n",
    "        if(self.perimeter is None):\n",
    "            self.getPerimeter()\n",
    "        if(self.area is None):\n",
    "            self.getArea()\n",
    "        self.compactness = self.perimeter**2 / self.area\n",
    "\n",
    "    def getRectangularity(self):\n",
    "        rows,columns = self.data.shape\n",
    "        points = [math.inf,-1,math.inf,-1] # heighleast,heighmost,leftmost,rightmost\n",
    "        for r in range(rows):\n",
    "            for c in range(columns):\n",
    "                if(self.data[r][c] == 255):\n",
    "                    if(r < points[0]):\n",
    "                        points[0] = r\n",
    "                    if(r > points[1]):\n",
    "                        points[1] = r\n",
    "                    if(c < points[2]):\n",
    "                        points[2] = c\n",
    "                    if(c > points[3]):\n",
    "                        points[3] = c\n",
    "        areaR = (points[1]-points[0]) * (points[3]-points[2])\n",
    "        self.rectangularity = self.area/areaR\n",
    "        \n",
    "\n",
<<<<<<< Updated upstream
=======
    "    def getPerimeter(self):pass #TODO\n",
    "    def getCompactness(self):pass #TODO\n",
    "    def getRectnagularity(self):pass #TODO\n",
    "\n",
    "    def getFourierDescriptors(self):\n",
    "        if(self.boundary is None):\n",
    "            self.getBoundaries()\n",
    "        self.fourierDescriptors = fourier_descriptors.fourier_descriptors(self.boundary.copy())\n",
    "        \n",
    "\n",
>>>>>>> Stashed changes
    "    def plotImage(self):\n",
    "        plt.figure()\n",
    "        plt.subplot(131)\n",
    "        plt.imshow(self.data,cmap=\"gray\")\n",
    "        plt.subplot(132)\n",
    "        plt.imshow(self.borderImage,cmap=\"gray\")\n",
    "        plt.subplot(133)\n",
    "        plt.imshow(self.boundaryImage,cmap=\"gray\")\n",
    "        plt.show()\n"
   ]
  },
  {
   "cell_type": "markdown",
   "metadata": {},
   "source": [
    "## Load data"
   ]
  },
  {
   "cell_type": "code",
<<<<<<< Updated upstream
   "execution_count": 58,
=======
   "execution_count": 2,
>>>>>>> Stashed changes
   "metadata": {},
   "outputs": [],
   "source": [
    "images = []\n",
    "imagesRotated = []\n",
    "imagesResized = []\n",
    "folder_path = 'images'\n",
    "init_folders = os.listdir(folder_path)\n",
    "for folder in init_folders:\n",
    "    init_folder_path = os.path.join(folder_path, folder)\n",
    "    cont = 0\n",
    "    for image_path in os.listdir(init_folder_path):\n",
    "        if(cont == 10):\n",
    "            break\n",
    "        image_folder = os.path.join(init_folder_path,image_path)\n",
    "        image = cv2.imread(image_folder,cv2.IMREAD_GRAYSCALE)\n",
    "        imageR = cv2.rotate(image, cv2.ROTATE_90_COUNTERCLOCKWISE)\n",
    "        imagesRZD = cv2.resize(image,(37,37),interpolation=cv2.INTER_NEAREST)\n",
    "        #se binariza la imagen\n",
    "        imagesRZD[imagesRZD < 128] = 0\n",
    "        imagesRZD[imagesRZD >= 128] = 255\n",
    "        images.append(Image(image,folder))\n",
    "        imagesRotated.append(Image(imageR,folder,rotated=True))\n",
    "        imagesResized.append(Image(imagesRZD,folder,resized=True))\n",
    "        cont += 1"
   ]
  },
  {
   "cell_type": "code",
<<<<<<< Updated upstream
   "execution_count": 62,
=======
   "execution_count": 3,
>>>>>>> Stashed changes
   "metadata": {},
   "outputs": [
    {
     "data": {
<<<<<<< Updated upstream
      "image/png": "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",
=======
      "image/png": "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",
>>>>>>> Stashed changes
      "text/plain": [
       "<Figure size 640x480 with 3 Axes>"
      ]
     },
     "metadata": {},
     "output_type": "display_data"
    },
    {
     "data": {
<<<<<<< Updated upstream
=======
      "image/png": "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",
>>>>>>> Stashed changes
      "text/plain": [
       "0.3117408906882591"
      ]
     },
     "execution_count": 62,
     "metadata": {},
<<<<<<< Updated upstream
     "output_type": "execute_result"
=======
     "output_type": "display_data"
    },
    {
     "data": {
      "image/png": "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",
      "text/plain": [
       "<Figure size 640x480 with 3 Axes>"
      ]
     },
     "metadata": {},
     "output_type": "display_data"
>>>>>>> Stashed changes
    }
   ],
   "source": [
    "image = images[12]\n",
    "image.getFreemanChain()\n",
    "image.plotImage()\n",
<<<<<<< Updated upstream
    "image.getArea()\n",
    "image.getPerimeter()\n",
    "image.getCompactness()\n",
    "image.getRectangularity()\n",
    "image.rectangularity"
=======
    "image = imagesRotated[65]\n",
    "image.getFreemanChain()\n",
    "image.plotImage()\n",
    "image = imagesResized[65]\n",
    "image.getFreemanChain()\n",
    "image.plotImage()\n",
    "\n"
   ]
  },
  {
   "cell_type": "code",
   "execution_count": 4,
   "metadata": {},
   "outputs": [
    {
     "name": "stdout",
     "output_type": "stream",
     "text": [
      "Comparacion entre descriptores de Fourier\n",
      "[927.        +1.03700000e+03j -11.40989841+1.04197002e+01j\n",
      " -70.41698314+7.79324511e+01j -64.87349699+4.37804295e+01j\n",
      " -44.98605375-3.93717283e+01j   7.64953061+1.93555533e+01j\n",
      "  29.58845727-1.09282032e+01j   1.00839789+3.08373153e+00j\n",
      "  -6.49763364+3.12400069e+00j -13.65685425-1.33226763e-15j]\n",
      "[ 9.07000000e+02+9.27000000e+02j  7.15804998e+00-1.36937305e+01j\n",
      "  1.04962885e+02+3.84852467e+00j  5.47821560e+00+7.80723111e+01j\n",
      " -3.74657856e+01-4.65853295e+01j -1.77331719e+01+1.08943736e+01j\n",
      " -2.01602540e+01+2.42583302e+01j  1.20970682e+00-3.01046108e+00j\n",
      "  7.13278803e-01+7.17424955e+00j -1.36568542e+01+6.66133815e-16j]\n",
      "[ 1.77800000e+03+1.95600000e+03j  5.65458012e+00+1.77082635e+01j\n",
      " -1.17003754e+02+1.38510776e+02j -1.30194569e+02+8.24137287e+01j\n",
      " -9.95103498e+01-8.45754608e+01j -1.94571438e+00+3.83358463e+01j\n",
      "  5.76004768e+01-1.27968691e+01j  5.16253162e+00+8.96696992e+00j\n",
      "  2.51076837e+00+2.59549243e+00j -2.47187591e+01-2.83415643e+00j\n",
      " -5.06849633e+00+5.42615485e+00j  7.17074787e+00-7.89221113e+00j\n",
      " -1.81740487e+00+1.79022164e+00j  4.88393361e+00+4.92530114e+00j\n",
      " -3.41245409e+00-3.78233355e+00j  5.05556033e+00+1.12412199e+00j\n",
      " -4.18302782e+00-5.05263150e+00j  3.29900893e+00+9.41285226e+00j\n",
      "  4.04018302e-01+5.32203103e+00j  5.74422784e-01+1.94005669e+00j\n",
      "  3.02952384e+00-2.41885406e-01j -2.10167364e+00-1.58334976e+00j\n",
      " -1.46420451e+00-2.01613357e-01j  8.98333730e-01+5.84345583e-01j\n",
      " -2.63477685e+00+1.77632271e+00j -5.77279979e-01-1.39084801e-01j\n",
      " -4.67512842e+00-2.48679479e+00j -4.64227073e-02-3.35717864e-01j\n",
      "  8.33315974e-01-7.96853214e-01j  3.47138894e+00+2.80055903e+00j\n",
      " -1.92035513e+00+1.66496807e+00j -3.93969287e+00+4.00623289e-01j\n",
      "  5.85706442e-01+1.41467490e+00j -1.86602540e+00-1.50000000e+00j\n",
      "  2.65304204e+00+2.44547857e+00j  4.44528421e+00-1.35226283e-01j\n",
      " -3.22668011e+00-3.42252245e+00j -4.02946299e+00+2.28618209e+00j\n",
      " -1.00287179e+00+3.74580645e+00j -2.86737217e+00-1.71854325e+00j\n",
      " -1.03949373e+00+2.93461212e-01j -1.88279478e-01-4.14045124e+00j\n",
      " -1.01168870e+00+2.08069326e+00j  3.02113309e+00-5.27499285e-01j\n",
      " -2.58813434e+00-1.90347180e-01j -1.36951825e+00+1.82267968e+00j\n",
      "  3.15497554e+00+1.03949033e+00j  2.36661500e+00+1.69199924e+00j\n",
      " -6.04675203e-01-2.58867005e+00j -1.09127268e+00-1.41469301e+00j\n",
      " -2.23411406e+00+1.37652020e-01j  2.01418005e-01+1.33942237e+00j\n",
      "  3.48812215e+00-3.45604483e-01j -2.01766889e+00-5.05519853e-01j\n",
      "  2.30326348e-02+2.21804353e+00j -2.24936184e+00-5.82971223e-01j\n",
      " -1.23525677e+00-4.43745555e-01j -4.18535031e-02+9.28464794e-01j\n",
      "  3.12446069e+00-3.37894985e+00j  1.36038640e+00-1.24888997e+00j\n",
      "  4.01530505e+00+2.78656544e+00j -1.20642285e+00-3.93542244e-01j\n",
      " -3.61299275e-01-1.09432671e-01j  3.46777797e+00-3.70076422e+00j\n",
      " -1.42503118e+00+2.10270234e+00j  1.19672186e+00+9.56564853e-01j\n",
      " -1.33974596e-01-1.50000000e+00j -3.50560820e+00+2.58576263e+00j\n",
      " -6.15613484e-01-3.82604775e+00j  1.65313786e+00+2.16435136e+00j\n",
      "  2.09120507e+00-2.83925201e-01j -1.69427271e+00-5.95463833e-01j\n",
      " -1.98652239e-01+1.36881583e+00j  9.47592784e-01-1.12706388e+00j\n",
      " -1.70405388e+00-3.98641223e+00j -4.62478076e-01-1.18193137e+00j\n",
      "  1.55413907e+00-1.87847655e+00j  2.40776752e+00-1.61359411e+00j\n",
      " -1.30522448e+00+4.20802810e-01j -5.29844292e+00+4.28387068e+00j\n",
      " -3.57216816e+00-5.76341792e+00j -1.19668099e+00+3.58634186e+00j\n",
      " -7.09995695e+00+1.14434131e+00j -4.70544881e+00+1.62699051e-02j\n",
      " -8.40020057e-01+1.10175859e-01j -3.26687232e+00-1.23409898e-01j\n",
      " -7.54977858e+00-4.31048455e+00j -3.82627124e+00-1.14663819e+01j\n",
      " -1.52768147e+01+1.48073700e+00j -1.30161899e+01+1.09788775e+01j\n",
      "  8.86188447e+00-1.30247510e+01j -1.11921703e+00-1.71427788e+01j\n",
      " -5.56976177e+01+2.47314603e+01j -8.59446236e+00-3.76773879e+01j\n",
      " -5.45518854e+01-4.17691055e+00j -4.49109376e-02+1.05356279e+02j\n",
      " -1.50303073e+02-5.95867056e+01j -7.55310155e+01-2.54543532e+02j\n",
      " -5.76187069e+02+5.80658408e+02j]\n",
      "15.451729178478933\n",
      "18.58916006134903\n",
      "Comparacion entre invarianza a rotación\n",
      "Original vs Rotado\n",
      "[1390.93421843   15.45172918  105.03341587   78.26427419   59.78192049\n",
      "   20.81232236   31.54207395    3.24442082    7.20962019   13.65685425]\n",
      "[1296.91094528   15.45172918  105.03341587   78.26427419   59.78192049\n",
      "   20.81232236   31.54207395    3.24442082    7.20962019   13.65685425]\n",
      "Original vs Resized\n",
      "[59.9932855 +6.71122298e+01j -0.73842211+6.74338782e-01j\n",
      " -4.55722349+5.04360711e+00j -4.19846195+2.83336764e+00j\n",
      " -2.91139284-2.54804675e+00j  0.49505984+1.25264642e+00j\n",
      "  1.91489619-7.07247914e-01j  0.06526117+1.99571938e-01j\n",
      " -0.42051175+2.02178064e-01j -0.88383987-8.62212646e-17j]\n",
      "[95.64714028+105.22261326j  0.30418696  +0.95261235j\n",
      " -6.29419261  +7.45115837j -7.00378975  +4.4334294j\n",
      " -5.35313857  -4.54971933j -0.1046693   +2.06226888j\n",
      "  3.09860567  -0.68840491j  0.27771732  +0.48237628j\n",
      "  0.13506626  +0.13962398j -1.3297405   -0.15246286j]\n"
     ]
    },
    {
     "data": {
      "image/png": "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",
      "text/plain": [
       "<Figure size 640x480 with 3 Axes>"
      ]
     },
     "metadata": {},
     "output_type": "display_data"
    },
    {
     "data": {
      "image/png": "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",
      "text/plain": [
       "<Figure size 640x480 with 1 Axes>"
      ]
     },
     "metadata": {},
     "output_type": "display_data"
    },
    {
     "data": {
      "image/png": "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",
      "text/plain": [
       "<Figure size 640x480 with 1 Axes>"
      ]
     },
     "metadata": {},
     "output_type": "display_data"
    },
    {
     "data": {
      "image/png": "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",
      "text/plain": [
       "<Figure size 640x480 with 1 Axes>"
      ]
     },
     "metadata": {},
     "output_type": "display_data"
    },
    {
     "data": {
      "text/plain": [
       "array([[0, 0, 0, ..., 0, 0, 0],\n",
       "       [0, 0, 0, ..., 0, 0, 0],\n",
       "       [0, 0, 0, ..., 0, 0, 0],\n",
       "       ...,\n",
       "       [0, 0, 0, ..., 0, 0, 0],\n",
       "       [0, 0, 0, ..., 0, 0, 0],\n",
       "       [0, 0, 0, ..., 0, 0, 0]], dtype=uint8)"
      ]
     },
     "execution_count": 4,
     "metadata": {},
     "output_type": "execute_result"
    }
   ],
   "source": [
    "#Se obtienen los descriptores de Fourier\n",
    "imagen = images[65]\n",
    "imagen.getFourierDescriptors()\n",
    "\n",
    "imagenRotada = imagesRotated[65]\n",
    "imagenRotada.getFourierDescriptors()\n",
    "\n",
    "imagenResized = imagesResized[65]\n",
    "imagenResized.getFourierDescriptors()\n",
    "\n",
    "print(\"Comparacion entre descriptores de Fourier\")\n",
    "\n",
    "print(imagen.fourierDescriptors[:10])\n",
    "print(imagenRotada.fourierDescriptors[:10])\n",
    "print(imagenResized.fourierDescriptors)\n",
    "\n",
    "#Se grafican los descriptores de Fourier\n",
    "\n",
    "#Se calculan los descriptores normalizados\n",
    "\n",
    "descriptor_normal_InvarianteRot = fourier_descriptors.calculate_rotation_invariance(imagen.fourierDescriptors.copy())\n",
    "descriptor_normal_InvarianteScale =  fourier_descriptors.calculate_scale_invariance(imagen.fourierDescriptors.copy())\n",
    "descriptor_rotado = fourier_descriptors.calculate_rotation_invariance(imagenRotada.fourierDescriptors.copy())\n",
    "descriptor_resized = fourier_descriptors.calculate_scale_invariance(imagenResized.fourierDescriptors.copy())\n",
    "\n",
    "print(\"Comparacion entre invarianza a rotación\")\n",
    "print(\"Original vs Rotado\")\n",
    "print(descriptor_normal_InvarianteRot[:10])\n",
    "print(descriptor_rotado[:10])\n",
    "print(\"Original vs Resized\")\n",
    "print(descriptor_normal_InvarianteScale[:10])\n",
    "print(descriptor_resized[:10])\n",
    "\n",
    "imagenResized.plotImage()\n",
    "\n",
    "fourier_descriptors.plot_IDFT(imagen.fourierDescriptors, 1)\n",
    "fourier_descriptors.plot_IDFT(imagenRotada.fourierDescriptors, 1)\n",
    "fourier_descriptors.plot_IDFT(imagenResized.fourierDescriptors, 1, width=37, height=37)\n",
    "\n",
    "\n"
>>>>>>> Stashed changes
   ]
  }
 ],
 "metadata": {
  "kernelspec": {
   "display_name": "Python 3",
   "language": "python",
   "name": "python3"
  },
  "language_info": {
   "codemirror_mode": {
    "name": "ipython",
    "version": 3
   },
   "file_extension": ".py",
   "mimetype": "text/x-python",
   "name": "python",
   "nbconvert_exporter": "python",
   "pygments_lexer": "ipython3",
   "version": "3.11.5"
  }
 },
 "nbformat": 4,
 "nbformat_minor": 2
}
