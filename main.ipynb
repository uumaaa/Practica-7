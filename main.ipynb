{
 "cells": [
  {
   "cell_type": "code",
   "execution_count": 57,
   "metadata": {},
   "outputs": [],
   "source": [
    "import cv2\n",
    "import os\n",
    "import math\n",
    "import matplotlib.pyplot as plt\n",
    "import numpy as np\n",
    "from Thresholding import otsu\n",
    "from Boundaries import boundaries_detection\n",
    "from Boundaries import freeman_chain_code\n",
    "from Borders import border_detection\n",
    "class Image:\n",
    "    def __init__(self,data,label,rotated=False,resized=False):\n",
    "        self.data = data\n",
    "        self.borderImage = None\n",
    "        self.label = label\n",
    "        self.boundary = None\n",
    "        self.boundaryImage = None\n",
    "        self.rotated = rotated\n",
    "        self.resized = resized\n",
    "\n",
    "    def __str__(self) -> str:\n",
    "        return f\"{self.data}\"\n",
    "\n",
    "    def getBoundaries(self)->None:\n",
    "        binaryImage = otsu.otsu_image(self.data)\n",
    "        self.borderImage = border_detection.canny_bordering(binaryImage)\n",
    "        self.boundaryImage,self.boundary = boundaries_detection.moore_boundary_detection(self.borderImage)\n",
    "\n",
    "    def getFreemanChain(self):\n",
    "        if(self.boundary is None):\n",
    "            self.getBoundaries()\n",
    "        freemanChainCode = freeman_chain_code.calculate_chain_code(self.boundaryImage)\n",
    "        self.freemanChainCode = freeman_chain_code.normalize_chain(freemanChainCode)\n",
    "\n",
    "    def getArea(self):\n",
    "        rows,columns = self.data.shape\n",
    "        area = 0\n",
    "        for r in range(rows):\n",
    "            for c in range(columns):\n",
    "                if(self.data[r][c] == 255):\n",
    "                    area += 1\n",
    "        self.area = area\n",
    "\n",
    "    def getPerimeter(self):\n",
    "        if(self.freemanChainCode is None):\n",
    "            self.getFreemanChain()\n",
    "        perimeter = 0\n",
    "        for value in self.freemanChainCode:\n",
    "            if(value%2 == 0):\n",
    "                perimeter += 1\n",
    "            else:\n",
    "                perimeter += math.sqrt(2)\n",
    "        self.perimeter = perimeter\n",
    "        \n",
    "    def getCompactness(self):\n",
    "        if(self.perimeter is None):\n",
    "            self.getPerimeter()\n",
    "        if(self.area is None):\n",
    "            self.getArea()\n",
    "        self.compactness = self.perimeter**2 / self.area\n",
    "\n",
    "    def getRectangularity(self):\n",
    "        rows,columns = self.data.shape\n",
    "        points = [math.inf,-1,math.inf,-1] # heighleast,heighmost,leftmost,rightmost\n",
    "        for r in range(rows):\n",
    "            for c in range(columns):\n",
    "                if(self.data[r][c] == 255):\n",
    "                    if(r < points[0]):\n",
    "                        points[0] = r\n",
    "                    if(r > points[1]):\n",
    "                        points[1] = r\n",
    "                    if(c < points[2]):\n",
    "                        points[2] = c\n",
    "                    if(c > points[3]):\n",
    "                        points[3] = c\n",
    "        areaR = (points[1]-points[0]) * (points[3]-points[2])\n",
    "        self.rectangularity = self.area/areaR\n",
    "        \n",
    "\n",
    "    def plotImage(self):\n",
    "        plt.figure()\n",
    "        plt.subplot(131)\n",
    "        plt.imshow(self.data,cmap=\"gray\")\n",
    "        plt.subplot(132)\n",
    "        plt.imshow(self.borderImage,cmap=\"gray\")\n",
    "        plt.subplot(133)\n",
    "        plt.imshow(self.boundaryImage,cmap=\"gray\")\n",
    "        plt.show()\n"
   ]
  },
  {
   "cell_type": "markdown",
   "metadata": {},
   "source": [
    "## Load data"
   ]
  },
  {
   "cell_type": "code",
   "execution_count": 58,
   "metadata": {},
   "outputs": [],
   "source": [
    "images = []\n",
    "imagesRotated = []\n",
    "imagesResized = []\n",
    "folder_path = 'images'\n",
    "init_folders = os.listdir(folder_path)\n",
    "for folder in init_folders:\n",
    "    init_folder_path = os.path.join(folder_path, folder)\n",
    "    cont = 0\n",
    "    for image_path in os.listdir(init_folder_path):\n",
    "        if(cont == 10):\n",
    "            break\n",
    "        image_folder = os.path.join(init_folder_path,image_path)\n",
    "        image = cv2.imread(image_folder,cv2.IMREAD_GRAYSCALE)\n",
    "        imageR = cv2.rotate(image, cv2.ROTATE_90_COUNTERCLOCKWISE)\n",
    "        imagesRZD = cv2.resize(image,(37,37),interpolation=cv2.INTER_NEAREST)\n",
    "        images.append(Image(image,folder))\n",
    "        imagesRotated.append(Image(imageR,folder,rotated=True))\n",
    "        imagesResized.append(Image(imagesRZD,folder,resized=True))\n",
    "        cont += 1"
   ]
  },
  {
   "cell_type": "code",
   "execution_count": 62,
   "metadata": {},
   "outputs": [
    {
     "data": {
      "image/png": "[encoded data removed]",
      "text/plain": [
       "<Figure size 640x480 with 3 Axes>"
      ]
     },
     "metadata": {},
     "output_type": "display_data"
    },
    {
     "data": {
      "text/plain": [
       "0.3117408906882591"
      ]
     },
     "execution_count": 62,
     "metadata": {},
     "output_type": "execute_result"
    }
   ],
   "source": [
    "image = images[12]\n",
    "image.getFreemanChain()\n",
    "image.plotImage()\n",
    "image.getArea()\n",
    "image.getPerimeter()\n",
    "image.getCompactness()\n",
    "image.getRectangularity()\n",
    "image.rectangularity"
   ]
  }
 ],
 "metadata": {
  "kernelspec": {
   "display_name": "Python 3",
   "language": "python",
   "name": "python3"
  },
  "language_info": {
   "codemirror_mode": {
    "name": "ipython",
    "version": 3
   },
   "file_extension": ".py",
   "mimetype": "text/x-python",
   "name": "python",
   "nbconvert_exporter": "python",
   "pygments_lexer": "ipython3",
   "version": "3.10.11"
  }
 },
 "nbformat": 4,
 "nbformat_minor": 2
}
